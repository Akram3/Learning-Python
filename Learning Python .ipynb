{
 "cells": [
  {
   "cell_type": "code",
   "execution_count": null,
   "metadata": {
    "collapsed": false
   },
   "outputs": [],
   "source": [
    "c = [i**2 for i in sm]\n",
    "print sum(c[0:])\n",
    "\n",
    "k = [i**2 for i in sv]\n",
    "print sum(k[0:])\n",
    "\n",
    "v = [i*k for i in sm for k in sv]\n",
    "sum(v[0:])"
   ]
  },
  {
   "cell_type": "code",
   "execution_count": null,
   "metadata": {
    "collapsed": false
   },
   "outputs": [],
   "source": [
    "def checkio(data):\n",
    "    d = (len(data)+1) % 2\n",
    "    if d == 0:\n",
    "        c = int((len(data)+1) / 2) \n",
    "        data.sort()\n",
    "        result = data[c-1]\n",
    "        return result\n",
    "    elif d != 0:\n",
    "        m = int((len(data)) / 2)\n",
    "        data.sort()\n",
    "        result = (data[m-1]+data[m])/ 2.0\n",
    "        return result\n",
    "\n",
    "c = [3, 6, 20, 99, 10, 15]\n",
    "checkio(c)"
   ]
  },
  {
   "cell_type": "code",
   "execution_count": null,
   "metadata": {
    "collapsed": false
   },
   "outputs": [],
   "source": [
    "def checkio(grid, row, col):\n",
    "    # Translation from current cell to neighbouring cell\n",
    "    neighbouring_cell = ((-1, -1), (-1, 0), (-1, 1), (0, -1),\n",
    "              (0, 1), (1, -1), (1, 0), (1, 1))\n",
    "    count = 0\n",
    "    # Loop for each nth row and col to evaluate neighbouring cell\n",
    "    for cell in neighbouring_cell:\n",
    "        \n",
    "        n_row = row + cell[0]\n",
    "        n_col = col + cell[1]\n",
    "        \n",
    "        if (len(grid) > n_row >= 0) & (len(grid[0]) > n_col >=0):\n",
    "            if grid[n_row][n_col] == 1:\n",
    "                count += 1\n",
    "            else:\n",
    "                pass\n",
    "        else:\n",
    "            pass\n",
    "    return count \n",
    "\n",
    "print checkio(((1, 0, 0, 1, 0),\n",
    "                             (0, 1, 0, 0, 0),\n",
    "                             (0, 0, 1, 0, 1),\n",
    "                             (1, 0, 0, 0, 0),\n",
    "                             (0, 0, 1, 0, 0),), 1, 2)"
   ]
  },
  {
   "cell_type": "code",
   "execution_count": null,
   "metadata": {
    "collapsed": false
   },
   "outputs": [],
   "source": [
    "import re\n",
    "\n",
    "text = 'helllllloo+_000WWorld!!!!'\n",
    "pattern = re.compile(r'([a-z])')\n",
    "condition = pattern.findall(text.lower())\n",
    "\n",
    "condition.sort()\n",
    "print condition \n",
    "\n",
    "a = [condition.count(i) for i in condition] \n",
    "\n",
    "a[1] = 'lol'\n",
    "\n",
    "print a\n",
    "\n",
    "g =['XXO','.OO','.X.']\n",
    "print g[0][0]"
   ]
  },
  {
   "cell_type": "code",
   "execution_count": null,
   "metadata": {
    "collapsed": false
   },
   "outputs": [],
   "source": [
    "import re\n",
    "\n",
    "def checkio(text):\n",
    "    pattern = re.compile(r'[a-zA-Z]')\n",
    "    text_list = pattern.findall(text.lower())\n",
    "    \n",
    "    for letter in text_list:\n",
    "        count_dict = dict((letter,text_list.count(letter)) for letter in text_list)\n",
    "        for key in sorted(count_dict):\n",
    "            if count_dict[key] == max(count_dict.values()):\n",
    "                return key\n",
    "            else:\n",
    "                pass\n",
    "            \n",
    "checkio('fsbd')"
   ]
  },
  {
   "cell_type": "code",
   "execution_count": null,
   "metadata": {
    "collapsed": false
   },
   "outputs": [],
   "source": [
    "import re\n",
    "def checkio(game_results):\n",
    "    for row in game_results:\n",
    "        if row[0] == row[1] == row[2] and row[0]!='.':\n",
    "            return row[0]\n",
    "        \n",
    "    col = [game_results[0][0]+game_results[1][0]+game_results[2][0]]    \n",
    "    col.append(game_results[0][1]+game_results[1][1]+game_results[2][1])\n",
    "    col.append(game_results[0][2]+game_results[1][2]+game_results[2][2])\n",
    "    \n",
    "    for coln in col:\n",
    "        if coln[0] == coln[1] == coln[2] and coln[0] != '.':\n",
    "            return coln[0]\n",
    "    diag = [game_results[0][0]+game_results[1][1]+game_results[2][2]]\n",
    "    diag.append(game_results[0][2]+game_results[1][1]+game_results[2][0])\n",
    "    \n",
    "    for diagn in diag:\n",
    "        if diagn[0] == diagn[1] == diagn[2] and diagn[0] != '.':\n",
    "            return diagn[0]\n",
    "        \n",
    "    draw = game_results[0]+game_results[1]+game_results[2]\n",
    "    if  re.search(r'(?=.*[XO])',draw) != None :\n",
    "        return 'D'\n",
    "\n",
    "checkio([\"XXO\",\n",
    "         \"OXO\",\n",
    "         \"XOX\"])"
   ]
  },
  {
   "cell_type": "code",
   "execution_count": null,
   "metadata": {
    "collapsed": false
   },
   "outputs": [],
   "source": [
    "import collections as c\n",
    "def king(s,f,oneLineFunc):\n",
    "    return oneLineFunc(s,f)\n",
    "    \n",
    "king(range(50),range(4) ,lambda s,f: sum(s)+sum(f))\n",
    "h = range(10)\n",
    "for i in range(10-1):\n",
    "    h[i+1] = h[i] + 2\n",
    "h"
   ]
  },
  {
   "cell_type": "code",
   "execution_count": null,
   "metadata": {
    "collapsed": false
   },
   "outputs": [],
   "source": [
    "import numpy as np\n",
    "import matplotlib.pyplot as plt\n",
    "\n",
    "def generate_auto_correlated(N):\n",
    "    X = np.zeros(N)\n",
    "    for i in range(N-1):\n",
    "        X[i+1] = X[i] + np.random.normal(0,1)\n",
    "    return X\n",
    "for i in range(10):\n",
    "    X = generate_auto_correlated(100)\n",
    "plt.plot(X)\n",
    "plt.xlabel('$Time$')\n",
    "plt.ylabel('$Price$')\n",
    "\n",
    "plt.show()"
   ]
  },
  {
   "cell_type": "code",
   "execution_count": null,
   "metadata": {
    "collapsed": false
   },
   "outputs": [],
   "source": [
    "import matplotlib.pyplot as plt\n",
    "import sympy as sy\n",
    "from sympy.physics.vector import ReferenceFrame\n",
    "x = sy.symbols('x')\n",
    "sy.integrate(cos(x**2))"
   ]
  },
  {
   "cell_type": "code",
   "execution_count": null,
   "metadata": {
    "collapsed": false
   },
   "outputs": [],
   "source": [
    "global FIRST_TEN,SECOND_TEN,OTHER_TENS,HUNDRED\n",
    "FIRST_TEN = [\"zero\",\"one\", \"two\", \"three\", \"four\", \"five\", \"six\", \"seven\",\n",
    "             \"eight\", \"nine\"]\n",
    "SECOND_TEN = [\"ten\", \"eleven\", \"twelve\", \"thirteen\", \"fourteen\", \"fifteen\",\n",
    "              \"sixteen\", \"seventeen\", \"eighteen\", \"nineteen\"]\n",
    "OTHER_TENS = [\"twenty\", \"thirty\", \"forty\", \"fifty\", \"sixty\", \"seventy\",\n",
    "              \"eighty\", \"ninety\"]\n",
    "HUNDRED = \"hundred\"\n",
    "\n",
    "first_ten = zip(FIRST_TEN, range(10))\n",
    "second_ten = zip(SECOND_TEN,range(20)[10:])\n",
    "other_tens = zip(OTHER_TENS, range(20,100,10))\n",
    "hundred =[(\"hundred\",100)]\n",
    "\n",
    "full_list = other_tens+second_ten+first_ten\n",
    "\n",
    "full_list_dict = dict(full_list) \n",
    "first_ten_dict = dict(first_ten)\n",
    "other_tens_dict = dict(other_tens)\n",
    "hundred_dict = dict(hundred) \n",
    "\n",
    "def checkio(number):\n",
    "    \n",
    "    for key in full_list_dict:\n",
    "        if number == full_list_dict[key]:\n",
    "            return key\n",
    "    \n",
    "    for key_1 in other_tens_dict:\n",
    "        for key_2 in first_ten_dict:\n",
    "            if number == other_tens_dict[key_1]+first_ten_dict[key_2]:\n",
    "                return key_1+' '+key_2\n",
    "            \n",
    "    for key_3 in first_ten_dict:\n",
    "        for key_1 in other_tens_dict:\n",
    "            for key_2 in first_ten_dict:\n",
    "                if number == (first_ten_dict[key_3])*100:\n",
    "                    return key_3+' '+hundred_dict.keys()[0]\n",
    "                elif number == (first_ten_dict[key_3])*100+other_tens_dict[key_1]+first_ten_dict[key_2]:\n",
    "                    return key_3+' '+hundred_dict.keys()[0]+' '+key_1+' '+key_2\n",
    "                for key_4 in full_list_dict:\n",
    "                    if number == (first_ten_dict[key_3])*100+full_list_dict[key_4]:\n",
    "                        return key_3+' '+hundred_dict.keys()[0]+' '+key_4\n",
    "checkio(910)"
   ]
  },
  {
   "cell_type": "code",
   "execution_count": null,
   "metadata": {
    "collapsed": false
   },
   "outputs": [],
   "source": [
    "from numpy import *\n",
    "from scipy.stats import *\n",
    "import csv \n",
    "import matplotlib.pyplot as plt\n",
    "with open('DailyReturns_DATA.csv') as csvfile:\n",
    "    daily_returns = csv.reader(csvfile , delimiter=',')\n",
    "    ftse_100 = []\n",
    "    tesco_daily = []\n",
    "    for row in daily_returns:\n",
    "        ftse_100.append(row[1])\n",
    "        tesco_daily.append(row[0])\n",
    "    del ftse_100[0],tesco_daily[0]\n",
    "    \n",
    "    tesco =[float(i) for i in tesco_daily]\n",
    "    ftse = [float(i) for i in ftse_100]\n",
    "    \n",
    "    #plt.hist(tesco,bins =15,normed =True,cumulative=True)\n",
    "    #plt.legend(loc='best',frameon=False)\n",
    "    #plt.show()\n",
    "print(tesco)"
   ]
  },
  {
   "cell_type": "code",
   "execution_count": null,
   "metadata": {
    "collapsed": false
   },
   "outputs": [],
   "source": [
    "import matplotlib.pyplot as plt\n",
    "import numpy as np\n",
    "from numpy import ma\n",
    "\n",
    "X, Y = np.meshgrid(np.arange(-7, 2 * np.pi, .2), np.arange(-7, 2 * np.pi, .2))\n",
    "U = X\n",
    "V = 1\n",
    "\n",
    "\n",
    "plt.figure()\n",
    "M = np.hypot(U, V)\n",
    "Q = plt.quiver(X, Y, U, V, M,\n",
    "               units='x',\n",
    "               pivot='tip',\n",
    "               width=0.022,\n",
    "               scale=1 / 0.15)\n",
    "qk = plt.quiverkey(Q, 0.9, 1.05, 1, r'$1 \\frac{m}{s}$',\n",
    "                   labelpos='E',\n",
    "                   fontproperties={'weight': 'bold'})\n",
    "plt.plot(X, Y, 'k.')\n",
    "plt.axis([-7, 7, -7, 7])\n",
    "plt.title(\"scales with x view; pivot='tip'\")\n",
    "\n",
    "plt.show()"
   ]
  },
  {
   "cell_type": "code",
   "execution_count": null,
   "metadata": {
    "collapsed": false
   },
   "outputs": [],
   "source": [
    "import socket\n",
    "import sys\n",
    "from thread import *\n",
    "host = ''\n",
    "port = 5555\n",
    "s = socket.socket(socket.AF_INET, socket.SOCK_STREAM)\n",
    "\n",
    "try:\n",
    "    s.bind((host, port))\n",
    "except socket.error as e:\n",
    "    print(str(e))\n",
    "    \n",
    "s.listen(5)\n",
    "print('waiting for a connection -_-')\n",
    "def threaded_client(conn):\n",
    "    conn.send('welcome, type your info\\n')\n",
    "    \n",
    "    while True:\n",
    "        data = conn.recv(2048)\n",
    "        reply = 'Server output: '+ data\n",
    "        if not data:\n",
    "            break\n",
    "        conn.sendall(reply)\n",
    "    conn.close()\n",
    "    \n",
    "while True:\n",
    "    conn, addr = s.accept()\n",
    "    print 'connected to: '+addr[0]+':'+str(addr[1])\n",
    "    \n",
    "    start_new_thread(threaded_client,(conn,))"
   ]
  },
  {
   "cell_type": "code",
   "execution_count": null,
   "metadata": {
    "collapsed": false
   },
   "outputs": [],
   "source": [
    "import threading\n",
    "import Queue\n",
    "import time\n",
    "import socket \n",
    "\n",
    "s = socket.socket(socket.AF_INET, socket.SOCK_STREAM)\n",
    "target = raw_input('What website to scan: ')\n",
    "\n",
    "q = Queue.Queue()\n",
    "print_lock = threading.Lock()\n",
    "\n",
    "def portscan(port):\n",
    "    try:\n",
    "        conn = s.connect((target,port))\n",
    "        return True\n",
    "    except:\n",
    "        return False\n",
    "    with print_lock:\n",
    "        print threading.current_thread().name,worker\n",
    "        \n",
    "def threader():\n",
    "    while True:\n",
    "        worker = q.get()\n",
    "        portscan(worker)\n",
    "        q.task_done()\n",
    "for i in range(20):\n",
    "    t = threading.Thread(target=threader)\n",
    "    t.daemon = True\n",
    "    t.start()\n",
    "    \n",
    "for worker in range(1,81):\n",
    "    if portscan(worker):\n",
    "        print('Port '+str(i)+' is open')\n",
    "    q.put(worker)\n",
    "q.join()"
   ]
  },
  {
   "cell_type": "code",
   "execution_count": null,
   "metadata": {
    "collapsed": false,
    "scrolled": true
   },
   "outputs": [],
   "source": [
    "spread_ = dict(spread_of_inst)\n",
    "for i in spread_.values():\n",
    "    for k in spread_.keys():\n",
    "        if i < 0.001 and spread_[k] == i:\n",
    "            pass\n",
    "\n",
    "#demo.create_order(id_,\n",
    "#         units=5,\n",
    "#         type= 'market',\n",
    "#        side='sell',\n",
    "#        instrument='XAU_HKD')\n",
    "\n",
    "data = []\n",
    "for candle in candles:\n",
    "    data.append(candle['closeBid'])\n",
    "    \n",
    "current_bid = demo.get_prices(instruments='EUR_USD'\n",
    "                    )['prices'][0]['bid']\n",
    "\n",
    "candles = demo.get_history(instrument='EUR_USD',\n",
    "                granularity='M1',\n",
    "                count=500,\n",
    "                alignmentTimezone='Europe/London')['candles']\n",
    "close_bid = []\n",
    "close_ask = []\n",
    "for candle in candles:\n",
    "    close_bid.append(candle['closeBid'])\n",
    "    close_ask.append(candle['closeAsk'])"
   ]
  },
  {
   "cell_type": "code",
   "execution_count": null,
   "metadata": {
    "collapsed": false
   },
   "outputs": [],
   "source": [
    "import datetime as dt\n",
    "import matplotlib.mlab as mlab\n",
    "\n",
    "def sma(price):\n",
    "    moving_avrg = [sum(price[0:i+1])/(len(price[0:i+1])) for i in range(len(price))]\n",
    "    return moving_avrg\n",
    "\n",
    "\n",
    "mean_close_bid = np.mean(close_bid)\n",
    "residual = [(i-mean_close_bid) for i in close_bid]\n",
    "var_close_bid = np.var(close_bid)\n",
    "sig = np.sqrt(var_close_bid)\n",
    "\n",
    "\n",
    "potential_short = []\n",
    "potential_long = []\n",
    "for candle in close_bid:\n",
    "    \n",
    "    if candle > mean_close_bid:\n",
    "        potential_short.append(candle)\n",
    "    elif candle < mean_close_bid:\n",
    "        potential_long.append(candle)\n",
    "\n",
    "print current_bid\n",
    "\n",
    "plt.figure(5)\n",
    "plt.subplot(211)\n",
    "plt.plot(range(len(potential_short)),potential_short)\n",
    "plt.axhline(y=mean_close_bid)\n",
    "plt.subplot(212)\n",
    "plt.plot(range(len(potential_long)),potential_long)\n",
    "plt.axhline(y=mean_close_bid)\n",
    "\n",
    "plt.figure(6)\n",
    "plt.plot(range(len(close_bid)),close_bid)\n",
    "#plt.plot(range(len(close_bid)),sma(close_bid))\n",
    "plt.axhline(y=mean_close_bid)\n",
    "#plt.show()"
   ]
  },
  {
   "cell_type": "code",
   "execution_count": null,
   "metadata": {
    "collapsed": false
   },
   "outputs": [],
   "source": [
    "plt.plot(range(500),sma(close_bid))\n",
    "plt.plot(range(500),close_bid)\n",
    "plt.plot(range(500),close_ask)\n",
    "plt.show()"
   ]
  },
  {
   "cell_type": "code",
   "execution_count": null,
   "metadata": {
    "collapsed": false
   },
   "outputs": [],
   "source": [
    "import time \n",
    "import concurrent.futures as ft\n",
    "\n",
    "def exampleJob(worker):\n",
    "    time.sleep(.5)\n",
    "start = time.time()\n",
    "\n",
    "ex = ft.ThreadPoolExecutor(2) #number of threads\n",
    "futures = [ex.submit(exampleJob,worker) for worker in range(20)#number of jobs for threads to do]\n",
    "ft.wait(futures) #thread locking and queue\n",
    "\n",
    "print time.time()-start"
   ]
  
  },
  {
   "cell_type": "code",
   "execution_count": null,
   "metadata": {
    "collapsed": false
   },
   "outputs": [],
   "source": [
    "from sympy import *\n",
    "import matplotlib.pyplot as plt\n",
    "from sympy.plotting import plot\n",
    "import pandas as pd\n",
    "import numpy as np"
   ]
  },
  {
   "cell_type": "code",
   "execution_count": null,
   "metadata": {
    "collapsed": false
   },
   "outputs": [],
   "source": [
    "x = symbols('x')\n",
    "init_printing(use_unicode=True)\n",
    "dates = pd.date_range('20150101', periods = 6)\n",
    "df = pd.DataFrame(np.random.randn(6,4), index = dates,columns=['eur_usd','sugar','coffee','soy_beans'])"
   ]
  },
  {
   "cell_type": "code",
   "execution_count": null,
   "metadata": {
    "collapsed": false
   },
   "outputs": [],
   "source": [
    "import copy\n",
    "attr_dict = {\n",
    "            \"ticks\": 0,\n",
    "            \"invested\": False,\n",
    "            \"short_sma\": None,\n",
    "            \"long_sma\": None\n",
    "        }\n",
    "k_camp = ['EUR_USD','GBP_USD']\n",
    "pairs_dict = {}\n",
    "for p in k_camp:\n",
    "    pairs_dict[p] = copy.deepcopy(attr_dict)\n",
    "    \n",
    "print pairs_dict\n",
    "pd = pairs_dict['EUR_USD']\n",
    "pd['short_sma']= 20\n",
    "pd"
   ]
  },
  {
   "cell_type": "code",
   "execution_count": null,
   "metadata": {
    "collapsed": false
   },
   "outputs": [],
   "source": [
    "import matplotlib\n",
    "import pandas as pd\n",
    "import numpy as np\n",
    "import matplotlib.pyplot as plt\n",
    "import matplotlib.ticker as mticker\n",
    "import matplotlib.dates as mdates\n",
    "from datetime import datetime\n",
    "from matplotlib import style\n",
    "style.use(\"ggplot\")\n",
    "import os \n",
    "import sys\n",
    "sys.path.append('C:\\Users\\X\\oandapy.py')\n",
    "import oandapy \n",
    "\n",
    "acc_id = os.environ.get('OANDA_API_ACCOUNT_ID')\n",
    "acc_token = os.environ.get('OANDA_API_ACCESS_TOKEN')\n",
    "demo = oandapy.API(\"practice\", access_token=acc_token, )"
   ]
  },
  {
   "cell_type": "code",
   "execution_count": null,
   "metadata": {
    "collapsed": false
   },
   "outputs": [],
   "source": [
    "historical_data = demo.get_history(instrument='EUR_USD',\n",
    "                granularity='M1',\n",
    "                count=1000,\n",
    "                alignmentTimezone='Europe/London')\n",
    "\n",
    "\n",
    "candles = historical_data['candles']\n",
    "bid = [candle['closeBid'] for candle in candles]\n",
    "ask = [candle['closeAsk'] for candle in candles]\n",
    "volume = [historical_data['candles'][i]['volume'] for i in range(len(candles))]\n",
    "date = [datetime.strptime(historical_data['candles'][i]['time'], '%Y-%m-%dT%H:%M:%S.%fZ') for i in range(len(candles))]\n",
    "\n",
    "\n",
    "\n",
    "current_bid = demo.get_prices(instruments='EUR_USD')['prices'][0]['bid']\n",
    "current_ask = demo.get_prices(instruments='EUR_USD')['prices'][0]['ask']\n",
    "\n",
    "spread = [abs(i-j) for i,j in zip(ask,bid)]\n",
    "\n",
    "def graphRawFX(date,bid,ask,spread):\n",
    "\n",
    "    fig=plt.figure(figsize=(10,7))\n",
    "\n",
    "    ax1 = plt.subplot2grid((40,40), (0,0), rowspan=40, colspan=40)\n",
    "    ax1.plot(date,bid)\n",
    "    ax1.plot(date,ask)\n",
    "    ax1.xaxis.set_major_formatter(mdates.DateFormatter('%Y-%m-%d %H:%M:%S'))\n",
    "    #####\n",
    "    plt.grid(True)\n",
    "    for label in ax1.xaxis.get_ticklabels():\n",
    "            label.set_rotation(45)\n",
    "    plt.gca().get_yaxis().get_major_formatter().set_useOffset(False)\n",
    "\n",
    "    #######\n",
    "    ax1_2 = ax1.twinx()\n",
    "\n",
    "    #ax1_2.plot(date, (ask-bid))\n",
    "\n",
    "    ax1_2.fill_between(date, 0, (spread), facecolor='g',alpha=.5)\n",
    "\n",
    "    #ax1_2.set_ylim(0, 3*ask.max())\n",
    "    #######\n",
    "\n",
    "    plt.subplots_adjust(bottom=.23)\n",
    "    #plt.grid(True)\n",
    "\n",
    "    plt.show()\n",
    "\n",
    "\n",
    "raw_data_instruments = demo.get_instruments(acc_id)['instruments']\n",
    "\n",
    "tradeable_instruments=[raw_data_instruments[i]['instrument'] for i in range(len(raw_data_instruments))]\n",
    "\n",
    "tick_data = [pd.DataFrame(demo.get_history(account_id=acc_id,instrument=tradeable_instruments[i],granularity='S5')['candles']) \n",
    "            for i in range(len(tradeable_instruments))]\n",
    "track = {}\n",
    "\n",
    "for i in range(len(tick_data)):\n",
    "    track[tradeable_instruments[i]] = tick_data[i]"
   ]
  },
  {
   "cell_type": "code",
   "execution_count": null,
   "metadata": {
    "collapsed": false
   },
   "outputs": [],
   "source": [
    "buy_side = []\n",
    "pairs_trade = []\n",
    "for i in track.keys():\n",
    "    value = track['AUD_USD']['closeBid'].corr(track[i]['closeBid'], method='spearman')\n",
    "    if value > 0.7:\n",
    "\n",
    "        buy_side.append(i)\n",
    "    elif value < -0.7:\n",
    "        \n",
    "        pairs_trade.append(i)\n",
    "buy_side"
   ]
  },
  {
   "cell_type": "code",
   "execution_count": null,
   "metadata": {
    "collapsed": true
   },
   "outputs": [],
   "source": [
    "import matplotlib.pyplot as plt\n",
    "import numpy as np\n",
    "from numpy import ma\n",
    "\n",
    "X, Y = np.meshgrid(np.arange(-7, 2 * np.pi, .2), np.arange(-7, 2 * np.pi, .2))\n",
    "U = X\n",
    "V = 1\n",
    "\n",
    "\n",
    "plt.figure()\n",
    "M = np.hypot(U, V)\n",
    "Q = plt.quiver(X, Y, U, V, M,\n",
    "               units='x',\n",
    "               pivot='tip',\n",
    "               width=0.022,\n",
    "               scale=1 / 0.15)\n",
    "qk = plt.quiverkey(Q, 0.9, 1.05, 1, r'$1 \\frac{m}{s}$',\n",
    "                   labelpos='E',\n",
    "                   fontproperties={'weight': 'bold'})\n",
    "plt.plot(X, Y, 'k.')\n",
    "plt.axis([-7, 7, -7, 7])\n",
    "plt.title(\"scales with x view; pivot='tip'\")\n",
    "\n",
    "plt.show()"
   ]
  }
 ],
 "metadata": {
  "kernelspec": {
   "display_name": "Python 2",
   "language": "python",
   "name": "python2"
  },
  "language_info": {
   "codemirror_mode": {
    "name": "ipython",
    "version": 2
   },
   "file_extension": ".py",
   "mimetype": "text/x-python",
   "name": "python",
   "nbconvert_exporter": "python",
   "pygments_lexer": "ipython2",
   "version": "2.7.11"
  }
 },
 "nbformat": 4,
 "nbformat_minor": 0
}
